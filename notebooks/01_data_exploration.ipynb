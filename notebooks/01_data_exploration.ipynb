{
 "cells": [
  {
   "metadata": {},
   "cell_type": "markdown",
   "source": "#### Data Loading",
   "id": "9d21c10aa5445189"
  },
  {
   "metadata": {
    "ExecuteTime": {
     "end_time": "2025-06-21T09:56:54.958943Z",
     "start_time": "2025-06-21T09:56:54.918771Z"
    }
   },
   "cell_type": "code",
   "source": [
    "# Load necessary libraries\n",
    "import os\n",
    "import pandas as pd\n",
    "import matplotlib.pyplot as plt\n",
    "import seaborn as sns\n",
    "from collections import Counter\n",
    "import string\n",
    "\n",
    "# Set path to processed data\n",
    "PROCESSED_DIR = \"../data/processed\"\n",
    "\n",
    "# Load all preprocessed 10-K documents into a DataFrame\n",
    "documents = []\n",
    "tickers = []\n",
    "years = []\n",
    "\n",
    "for fname in os.listdir(PROCESSED_DIR):\n",
    "    if fname.endswith(\".txt\"):\n",
    "        with open(os.path.join(PROCESSED_DIR, fname), \"r\", encoding=\"utf-8\") as f:\n",
    "            text = f.read()\n",
    "        documents.append(text)\n",
    "\n",
    "        # Extract ticker and year from filename format: TICKER_10K_YEAR.txt\n",
    "        parts = fname.replace(\".txt\", \"\").split(\"_\")\n",
    "        tickers.append(parts[0])\n",
    "        years.append(parts[-1])\n",
    "\n",
    "# Create DataFrame\n",
    "df = pd.DataFrame({\n",
    "    \"ticker\": tickers,\n",
    "    \"year\": years,\n",
    "    \"text\": documents\n",
    "})\n",
    "\n",
    "df.head()"
   ],
   "id": "70b518a26a3b5c27",
   "outputs": [
    {
     "data": {
      "text/plain": [
       "  ticker  year                                               text\n",
       "0   TSLA  2024  --- ITEM_7_MDA ---\\nmanagement’s discussion an...\n",
       "1   TSLA  2022  --- ITEM_7_MDA ---\\nmanagement’s discussion an...\n",
       "2   TSLA  2023  --- ITEM_7_MDA ---\\nmanagement’s discussion an...\n",
       "3   AAPL  2023  --- ITEM_1_BUSINESS ---\\nbusiness company back...\n",
       "4   AAPL  2022  --- ITEM_1_BUSINESS ---\\nbusiness company back..."
      ],
      "text/html": [
       "<div>\n",
       "<style scoped>\n",
       "    .dataframe tbody tr th:only-of-type {\n",
       "        vertical-align: middle;\n",
       "    }\n",
       "\n",
       "    .dataframe tbody tr th {\n",
       "        vertical-align: top;\n",
       "    }\n",
       "\n",
       "    .dataframe thead th {\n",
       "        text-align: right;\n",
       "    }\n",
       "</style>\n",
       "<table border=\"1\" class=\"dataframe\">\n",
       "  <thead>\n",
       "    <tr style=\"text-align: right;\">\n",
       "      <th></th>\n",
       "      <th>ticker</th>\n",
       "      <th>year</th>\n",
       "      <th>text</th>\n",
       "    </tr>\n",
       "  </thead>\n",
       "  <tbody>\n",
       "    <tr>\n",
       "      <th>0</th>\n",
       "      <td>TSLA</td>\n",
       "      <td>2024</td>\n",
       "      <td>--- ITEM_7_MDA ---\\nmanagement’s discussion an...</td>\n",
       "    </tr>\n",
       "    <tr>\n",
       "      <th>1</th>\n",
       "      <td>TSLA</td>\n",
       "      <td>2022</td>\n",
       "      <td>--- ITEM_7_MDA ---\\nmanagement’s discussion an...</td>\n",
       "    </tr>\n",
       "    <tr>\n",
       "      <th>2</th>\n",
       "      <td>TSLA</td>\n",
       "      <td>2023</td>\n",
       "      <td>--- ITEM_7_MDA ---\\nmanagement’s discussion an...</td>\n",
       "    </tr>\n",
       "    <tr>\n",
       "      <th>3</th>\n",
       "      <td>AAPL</td>\n",
       "      <td>2023</td>\n",
       "      <td>--- ITEM_1_BUSINESS ---\\nbusiness company back...</td>\n",
       "    </tr>\n",
       "    <tr>\n",
       "      <th>4</th>\n",
       "      <td>AAPL</td>\n",
       "      <td>2022</td>\n",
       "      <td>--- ITEM_1_BUSINESS ---\\nbusiness company back...</td>\n",
       "    </tr>\n",
       "  </tbody>\n",
       "</table>\n",
       "</div>"
      ]
     },
     "execution_count": 1,
     "metadata": {},
     "output_type": "execute_result"
    }
   ],
   "execution_count": 1
  },
  {
   "metadata": {},
   "cell_type": "markdown",
   "source": "#### Length Analysis",
   "id": "e49e9f745386d29f"
  },
  {
   "metadata": {
    "ExecuteTime": {
     "end_time": "2025-06-17T12:00:41.882679Z",
     "start_time": "2025-06-17T12:00:41.722672Z"
    }
   },
   "cell_type": "code",
   "source": [
    "# Basic text statistics: character and word counts\n",
    "df[\"n_chars\"] = df[\"text\"].apply(len)\n",
    "df[\"n_words\"] = df[\"text\"].apply(lambda x: len(x.split()))\n",
    "\n",
    "# Display summary statistics\n",
    "df[[\"n_chars\", \"n_words\"]].describe()"
   ],
   "id": "b6e6df024ec7a16d",
   "outputs": [
    {
     "data": {
      "text/plain": [
       "             n_chars       n_words\n",
       "count      10.000000     10.000000\n",
       "mean   349095.600000  47822.800000\n",
       "std    131479.635998  20047.729613\n",
       "min    212907.000000  27756.000000\n",
       "25%    231288.500000  30293.500000\n",
       "50%    337608.000000  44432.000000\n",
       "75%    436808.750000  61514.750000\n",
       "max    567415.000000  82633.000000"
      ],
      "text/html": [
       "<div>\n",
       "<style scoped>\n",
       "    .dataframe tbody tr th:only-of-type {\n",
       "        vertical-align: middle;\n",
       "    }\n",
       "\n",
       "    .dataframe tbody tr th {\n",
       "        vertical-align: top;\n",
       "    }\n",
       "\n",
       "    .dataframe thead th {\n",
       "        text-align: right;\n",
       "    }\n",
       "</style>\n",
       "<table border=\"1\" class=\"dataframe\">\n",
       "  <thead>\n",
       "    <tr style=\"text-align: right;\">\n",
       "      <th></th>\n",
       "      <th>n_chars</th>\n",
       "      <th>n_words</th>\n",
       "    </tr>\n",
       "  </thead>\n",
       "  <tbody>\n",
       "    <tr>\n",
       "      <th>count</th>\n",
       "      <td>10.000000</td>\n",
       "      <td>10.000000</td>\n",
       "    </tr>\n",
       "    <tr>\n",
       "      <th>mean</th>\n",
       "      <td>349095.600000</td>\n",
       "      <td>47822.800000</td>\n",
       "    </tr>\n",
       "    <tr>\n",
       "      <th>std</th>\n",
       "      <td>131479.635998</td>\n",
       "      <td>20047.729613</td>\n",
       "    </tr>\n",
       "    <tr>\n",
       "      <th>min</th>\n",
       "      <td>212907.000000</td>\n",
       "      <td>27756.000000</td>\n",
       "    </tr>\n",
       "    <tr>\n",
       "      <th>25%</th>\n",
       "      <td>231288.500000</td>\n",
       "      <td>30293.500000</td>\n",
       "    </tr>\n",
       "    <tr>\n",
       "      <th>50%</th>\n",
       "      <td>337608.000000</td>\n",
       "      <td>44432.000000</td>\n",
       "    </tr>\n",
       "    <tr>\n",
       "      <th>75%</th>\n",
       "      <td>436808.750000</td>\n",
       "      <td>61514.750000</td>\n",
       "    </tr>\n",
       "    <tr>\n",
       "      <th>max</th>\n",
       "      <td>567415.000000</td>\n",
       "      <td>82633.000000</td>\n",
       "    </tr>\n",
       "  </tbody>\n",
       "</table>\n",
       "</div>"
      ]
     },
     "execution_count": 2,
     "metadata": {},
     "output_type": "execute_result"
    }
   ],
   "execution_count": 2
  },
  {
   "metadata": {},
   "cell_type": "markdown",
   "source": "#### Histogram / Distribution",
   "id": "80fa000c67439a40"
  },
  {
   "metadata": {
    "ExecuteTime": {
     "end_time": "2025-06-17T12:01:43.692164Z",
     "start_time": "2025-06-17T12:01:42.445644Z"
    }
   },
   "cell_type": "code",
   "source": [
    "# Visualize the distribution of word counts per document\n",
    "sns.set(style=\"whitegrid\")\n",
    "plt.figure(figsize=(10, 6))\n",
    "sns.histplot(df[\"n_words\"], bins=30, kde=True, color='steelblue')\n",
    "plt.title(\"Distribution of Word Counts in 10-K Filings\")\n",
    "plt.xlabel(\"Number of Words\")\n",
    "plt.ylabel(\"Frequency\")\n",
    "plt.show()"
   ],
   "id": "f52beeb3be5eca2e",
   "outputs": [
    {
     "data": {
      "text/plain": [
       "<Figure size 1000x600 with 1 Axes>"
      ],
      "image/png": "[encoded data removed]"
     },
     "metadata": {},
     "output_type": "display_data"
    }
   ],
   "execution_count": 3
  },
  {
   "metadata": {},
   "cell_type": "markdown",
   "source": "#### Word Frequency",
   "id": "f57995be8f9fab57"
  },
  {
   "metadata": {},
   "cell_type": "code",
   "outputs": [],
   "execution_count": null,
   "source": "",
   "id": "47fde81571f6e76b"
  }
 ],
 "metadata": {
  "kernelspec": {
   "name": "python3",
   "language": "python",
   "display_name": "Python 3 (ipykernel)"
  }
 },
 "nbformat": 5,
 "nbformat_minor": 9
}
